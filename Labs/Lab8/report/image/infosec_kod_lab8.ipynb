{
 "cells": [
  {
   "cell_type": "code",
   "execution_count": 63,
   "id": "e4b294e1",
   "metadata": {},
   "outputs": [],
   "source": [
    "import numpy as np"
   ]
  },
  {
   "cell_type": "code",
   "execution_count": 64,
   "id": "dddb1814",
   "metadata": {},
   "outputs": [],
   "source": [
    "def gen_key(text):\n",
    "    rn = np.random.randint(0,255, len(text))\n",
    "    key = [hex(e)[2:] for e in rn]\n",
    "    return key"
   ]
  },
  {
   "cell_type": "code",
   "execution_count": 65,
   "id": "f1fbf866",
   "metadata": {},
   "outputs": [
    {
     "name": "stdout",
     "output_type": "stream",
     "text": [
      "24 24\n"
     ]
    }
   ],
   "source": [
    "p1 = \"Первый текст телеграммма\"\n",
    "p2 = \"Второй текст телеграммма\"\n",
    "print(len(p1),len(p2))"
   ]
  },
  {
   "cell_type": "code",
   "execution_count": 66,
   "id": "c00a3133",
   "metadata": {},
   "outputs": [],
   "source": [
    "def chifrovanie(p1,p2):\n",
    "     print(f\"P1: {p1}\")\n",
    "     print(f\"P2: {p2}\")\n",
    "    \n",
    "     hex_p1 = []\n",
    "     hex_p2 = []\n",
    "     \n",
    "     for i in range(len(p1)):\n",
    "            hex_p1.append(p1[i].encode(\"cp1251\").hex())\n",
    "            hex_p2.append(p2[i].encode(\"cp1251\").hex())\n",
    "            \n",
    "     print(\"Hex P1:\", hex_p1)\n",
    "     print(\"Hex P2:\", hex_p2)\n",
    "        \n",
    "     key = gen_key(p1)\n",
    "     print(\"Hex key:\", key)\n",
    "    \n",
    "     hex_c1 = []\n",
    "     hex_c2 = []\n",
    "     \n",
    "     for i in range(len(hex_p1)):\n",
    "            hex_c1.append(\"{:02x}\".format(int(key[i], 16) ^ int(hex_p1[i], 16)))\n",
    "            hex_c2.append(\"{:02x}\".format(int(key[i], 16) ^ int(hex_p2[i], 16)))\n",
    "            \n",
    "     print(\"Hex C1: \", hex_c1)\n",
    "     print(\"Hex C2: \", hex_c2)\n",
    "    \n",
    "     c1 = bytearray.fromhex(\"\".join(hex_c1)).decode(\"cp1251\")\n",
    "     c2 = bytearray.fromhex(\"\".join(hex_c2)).decode(\"cp1251\")\n",
    "    \n",
    "     print(f\"c1:,{c1}\")\n",
    "     print(f\"c2:,{c2}\")\n",
    "     \n",
    "     return key, c1, c2\n",
    "    "
   ]
  },
  {
   "cell_type": "code",
   "execution_count": 67,
   "id": "da76dec5",
   "metadata": {},
   "outputs": [
    {
     "name": "stdout",
     "output_type": "stream",
     "text": [
      "P1: Первый текст телеграммма\n",
      "P2: Второй текст телеграммма\n",
      "Hex P1: ['cf', 'e5', 'f0', 'e2', 'fb', 'e9', '20', 'f2', 'e5', 'ea', 'f1', 'f2', '20', 'f2', 'e5', 'eb', 'e5', 'e3', 'f0', 'e0', 'ec', 'ec', 'ec', 'e0']\n",
      "Hex P2: ['c2', 'f2', 'ee', 'f0', 'ee', 'e9', '20', 'f2', 'e5', 'ea', 'f1', 'f2', '20', 'f2', 'e5', 'eb', 'e5', 'e3', 'f0', 'e0', 'ec', 'ec', 'ec', 'e0']\n",
      "Hex key: ['eb', '30', '8f', 'c0', '40', '4b', 'a6', 'a0', '40', '2a', '29', 'fb', '99', '27', '62', '64', '75', '39', '60', '7a', '45', 'f9', '42', 'e0']\n",
      "Hex C1:  ['24', 'd5', '7f', '22', 'bb', 'a2', '86', '52', 'a5', 'c0', 'd8', '09', 'b9', 'd5', '87', '8f', '90', 'da', '90', '9a', 'a9', '15', 'ae', '00']\n",
      "Hex C2:  ['29', 'c2', '61', '30', 'ae', 'a2', '86', '52', 'a5', 'c0', 'd8', '09', 'b9', 'd5', '87', '8f', '90', 'da', '90', '9a', 'a9', '15', 'ae', '00']\n",
      "c1:,$Х\"»ў†RҐАШ\t№Х‡ЏђЪђљ©\u0015®\u0000\n",
      "c2:,)Вa0®ў†RҐАШ\t№Х‡ЏђЪђљ©\u0015®\u0000\n"
     ]
    }
   ],
   "source": [
    "key, c1, c2 = chifrovanie(p1,p2)"
   ]
  },
  {
   "cell_type": "code",
   "execution_count": 68,
   "id": "14be6b04",
   "metadata": {},
   "outputs": [],
   "source": [
    "def dechifrovanie(c1, c2, p1):\n",
    "     print(f\"C1: {c1}\")\n",
    "     print(f\"C2: {c2}\")\n",
    "     print(f\"P1: {p1}\")\n",
    "    \n",
    "     hex_c1 = []\n",
    "     hex_c2 = []\n",
    "     hex_p1 = []\n",
    "     \n",
    "     \n",
    "     for i in range(len(p1)):\n",
    "            hex_c1.append(c1[i].encode(\"cp1251\").hex())\n",
    "            hex_c2.append(c2[i].encode(\"cp1251\").hex())\n",
    "            hex_p1.append(p1[i].encode(\"cp1251\").hex())\n",
    "            \n",
    "     print(\"Hex C1: \", hex_c1)\n",
    "     print(\"Hex C2: \", hex_c2)\n",
    "     print(\"Hex P1: \", hex_p1)\n",
    "    \n",
    "     hex_p2 = []\n",
    "        \n",
    "     for i in range(len(p1)):\n",
    "        hex_p2.append(\"{:02x}\".format(int(hex_c1[i], 16) ^ int(hex_c2[i], 16) ^ int(hex_p1[i], 16)))\n",
    "        \n",
    "     print(\"Hex P2: \", hex_p2)\n",
    "     p2 = bytearray.fromhex(\"\".join(hex_p2)).decode(\"cp1251\")\n",
    "    \n",
    "     print(f\"P2: {p2}\")\n",
    "    \n",
    "     return p1, p2\n",
    "    "
   ]
  },
  {
   "cell_type": "code",
   "execution_count": 69,
   "id": "bba12fda",
   "metadata": {},
   "outputs": [
    {
     "name": "stdout",
     "output_type": "stream",
     "text": [
      "C1: $Х\"»ў†RҐАШ\t№Х‡ЏђЪђљ©\u0015®\u0000\n",
      "C2: )Вa0®ў†RҐАШ\t№Х‡ЏђЪђљ©\u0015®\u0000\n",
      "P1: Первый текст телеграммма\n",
      "Hex C1:  ['24', 'd5', '7f', '22', 'bb', 'a2', '86', '52', 'a5', 'c0', 'd8', '09', 'b9', 'd5', '87', '8f', '90', 'da', '90', '9a', 'a9', '15', 'ae', '00']\n",
      "Hex C2:  ['29', 'c2', '61', '30', 'ae', 'a2', '86', '52', 'a5', 'c0', 'd8', '09', 'b9', 'd5', '87', '8f', '90', 'da', '90', '9a', 'a9', '15', 'ae', '00']\n",
      "Hex P1:  ['cf', 'e5', 'f0', 'e2', 'fb', 'e9', '20', 'f2', 'e5', 'ea', 'f1', 'f2', '20', 'f2', 'e5', 'eb', 'e5', 'e3', 'f0', 'e0', 'ec', 'ec', 'ec', 'e0']\n",
      "Hex P2:  ['c2', 'f2', 'ee', 'f0', 'ee', 'e9', '20', 'f2', 'e5', 'ea', 'f1', 'f2', '20', 'f2', 'e5', 'eb', 'e5', 'e3', 'f0', 'e0', 'ec', 'ec', 'ec', 'e0']\n",
      "P2: Второй текст телеграммма\n"
     ]
    }
   ],
   "source": [
    "p1_decfih, P2_dechif = dechifrovanie(c1, c2, p1)"
   ]
  },
  {
   "cell_type": "code",
   "execution_count": null,
   "id": "70fcc350",
   "metadata": {},
   "outputs": [],
   "source": []
  }
 ],
 "metadata": {
  "kernelspec": {
   "display_name": "Python 3 (ipykernel)",
   "language": "python",
   "name": "python3"
  },
  "language_info": {
   "codemirror_mode": {
    "name": "ipython",
    "version": 3
   },
   "file_extension": ".py",
   "mimetype": "text/x-python",
   "name": "python",
   "nbconvert_exporter": "python",
   "pygments_lexer": "ipython3",
   "version": "3.9.13"
  }
 },
 "nbformat": 4,
 "nbformat_minor": 5
}
