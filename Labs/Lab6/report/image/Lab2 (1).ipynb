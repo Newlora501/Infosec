{
  "nbformat": 4,
  "nbformat_minor": 0,
  "metadata": {
    "colab": {
      "provenance": []
    },
    "kernelspec": {
      "name": "python3",
      "display_name": "Python 3"
    },
    "language_info": {
      "name": "python"
    }
  },
  "cells": [
    {
      "cell_type": "markdown",
      "metadata": {
        "id": "MzyI1eW2o7ZK"
      },
      "source": [
        "### РОССИЙСКИЙ УНИВЕРСИТЕТ ДРУЖБЫ НАРОДОВ\n",
        "\n",
        "#### Факультет физико-математических и естественных наук  \n",
        "#### Кафедра информационных технологий"
      ]
    },
    {
      "cell_type": "markdown",
      "metadata": {
        "id": "rNADmFbctaIn"
      },
      "source": [
        "### Дисциплина: Компьютерная геометрия и геометрическое моделирование"
      ]
    },
    {
      "cell_type": "markdown",
      "metadata": {
        "id": "3mlYJo9_tkPx"
      },
      "source": [
        "##### Студент:  Ду Нашсименту Висенте Феликс Жозе\n",
        "##### Группа:   НкНбд01-20"
      ]
    },
    {
      "cell_type": "markdown",
      "metadata": {
        "id": "c6pd49B2tpsR"
      },
      "source": [
        "## Москва 2023\n",
        "***"
      ]
    },
    {
      "cell_type": "markdown",
      "source": [
        "Импортируем необходимые библиотеки"
      ],
      "metadata": {
        "id": "zxXzhG5kk_RQ"
      }
    },
    {
      "cell_type": "code",
      "source": [
        "import math\n",
        "import numpy as np\n",
        "import cmath"
      ],
      "metadata": {
        "id": "Mus7K81_lAJ4"
      },
      "execution_count": 1,
      "outputs": []
    },
    {
      "cell_type": "markdown",
      "source": [
        "## 2.2.1. Задание №1\n",
        "Реализовать повороты произвольного многоугольника на заданный угол вокруг центра координат.\n",
        "Создать две версии программы: первая версия должна использовать матрицы для поворота, а вторая\n",
        "комплексные числа. Программа должна работатьтак, чтобы можно было легко изменить набор вершин\n",
        "многоугольника и указать любой угол поворота."
      ],
      "metadata": {
        "id": "13J4gg7Jk3ow"
      }
    },
    {
      "cell_type": "markdown",
      "source": [
        "### 2.2.1.1. Использование матриц для поворота многоугольника"
      ],
      "metadata": {
        "id": "SHmibe_PfcCv"
      }
    },
    {
      "cell_type": "markdown",
      "source": [
        "rotate_polygon_matrix Function:\n",
        "\n",
        "*  Получает список кортежей vertices, представляющих координаты (x, y) многоугольника, и angle_degrees, определяющий угол поворота в градусах.\n",
        "* Преобразует угол из градусов в радианы с помощью math.радианс.\n",
        "\n",
        "* Вычисляет матрицу вращения 2x2, используя синус и косинус угла.\n",
        "\n",
        "*  Перебирает каждую вершину многоугольника, умножает ее на матрицу вращения, используя np.точка и добавляет повернутые вершины в список rotated_vertices.\n",
        "\n",
        "* Возвращает список вершин повернутого многоугольника."
      ],
      "metadata": {
        "id": "zZFItBzIlQI6"
      }
    },
    {
      "cell_type": "markdown",
      "source": [],
      "metadata": {
        "id": "XfmfBVI8j2St"
      }
    },
    {
      "cell_type": "code",
      "execution_count": 2,
      "metadata": {
        "colab": {
          "base_uri": "https://localhost:8080/"
        },
        "id": "r3xJrpj6krf4",
        "outputId": "effdac2f-d01c-4902-de79-8265e7557577"
      },
      "outputs": [
        {
          "output_type": "stream",
          "name": "stdout",
          "text": [
            "Polígono Rotacionado (usando matrizes): [array([1.11022302e-16, 1.41421356e+00]), array([2.22044605e-16, 2.82842712e+00]), array([-1.41421356,  2.82842712])]\n"
          ]
        }
      ],
      "source": [
        "def rotate_polygon_matrix(vertices, angle_degrees):\n",
        "#я определяю функцию с именем rotate_polygon_matrix, которая принимает два аргумента:\n",
        "  #vertices (вершины многоугольника) и angle_degrees (угол в градусах для вращения).\n",
        "#я преобразую угол из градусов в радианы с помощью math.\n",
        "#радианы, потому что тригонометрические функции в Python работают с радианами.\n",
        "#Создал матрицу вращения 2x2, используя библиотеку NumPy\n",
        "    angle_radians = math.radians(angle_degrees)\n",
        "    rotation_matrix = np.array([[math.cos(angle_radians), -math.sin(angle_radians)],\n",
        "                                [math.sin(angle_radians), math.cos(angle_radians)]])\n",
        "    rotated_vertices = []\n",
        "#Эта матрица представляет преобразование вращения.\n",
        "#Я инициализировал пустой список rotated_vertices для хранения вершин многоугольника после поворота.\n",
        "#Я перебрал каждую вершину многоугольника, и мы применили преобразование вращения с помощью матричного умножения:\n",
        "    for vertex in vertices:\n",
        "        rotated_vertex = np.dot(rotation_matrix, np.array(vertex))\n",
        "        rotated_vertices.append(rotated_vertex)\n",
        "    return rotated_vertices\n",
        "#Результатом является новая вершина после вращения.\n",
        "#Добавляю повернутую вершину в список rotated_vertices.\n",
        "#Наконец, функция возвращает список rotated_vertices, который содержит вершины многоугольника после поворота.\n",
        "\n",
        "# Exemplo de uso\n",
        "vertices = [(1, 1), (2, 2), (1, 3)]  # Defina os vértices do polígono\n",
        "angle = 45  # Especifica o ângulo de rotação\n",
        "rotated_polygon = rotate_polygon_matrix(vertices, angle)\n",
        "print(\"Polígono Rotacionado (usando matrizes):\", rotated_polygon)"
      ]
    },
    {
      "cell_type": "markdown",
      "source": [
        "### 2.2.1.2. Использование комплексных чисел для поворота многоугольника:"
      ],
      "metadata": {
        "id": "zThoXwMJkncy"
      }
    },
    {
      "cell_type": "markdown",
      "source": [
        "rotate_polygon_complex Function:\n",
        "\n",
        "* Получает список кортежей vertices и angle_degrees для угла поворота.\n",
        "\n",
        "* Преобразует угол из градусов в радианы.\n",
        "\n",
        "* Вычисляет полярную форму вращения с помощью cmath.exp (1J * angle_radians), где 1j представляет мнимую единицу в Python.\n",
        "\n",
        "* Выполняет итерацию по каждой вершине, преобразует ее в комплексное число, умножает на комплексное число вращения и добавляет повернутые вершины в список rotated_vertices.\n",
        "\n",
        "* Возвращает список вершин повернутого многоугольника."
      ],
      "metadata": {
        "id": "DbRORvDukwfL"
      }
    },
    {
      "cell_type": "code",
      "source": [
        "def rotate_polygon_complex(vertices, angle_degrees):\n",
        "    angle_radians = math.radians(angle_degrees)\n",
        "    rotation_complex = cmath.exp(1j * angle_radians)  # Forma polar da rotação\n",
        "    rotated_vertices = []\n",
        "    for vertex in vertices:\n",
        "        complex_vertex = complex(*vertex)\n",
        "        rotated_vertex = complex_vertex * rotation_complex\n",
        "        rotated_vertices.append((rotated_vertex.real, rotated_vertex.imag))\n",
        "    return rotated_vertices\n",
        "\n",
        "# Exemplo de uso\n",
        "vertices = [(1, 1), (2, 2), (1, 3)]  # Defina os vértices do polígono\n",
        "angle = 45  # Especifica o ângulo de rotação\n",
        "rotated_polygon = rotate_polygon_complex(vertices, angle)\n",
        "print(\"Polígono Rotacionado (usando números complexos):\", rotated_polygon)\n"
      ],
      "metadata": {
        "colab": {
          "base_uri": "https://localhost:8080/"
        },
        "id": "uHh1ZVj-liQf",
        "outputId": "3e0cdb7c-1e99-427a-97e7-2b06ef19e2fa"
      },
      "execution_count": 4,
      "outputs": [
        {
          "output_type": "stream",
          "name": "stdout",
          "text": [
            "Polígono Rotacionado (usando números complexos): [(1.1102230246251565e-16, 1.414213562373095), (2.220446049250313e-16, 2.82842712474619), (-1.414213562373095, 2.8284271247461903)]\n"
          ]
        }
      ]
    },
    {
      "cell_type": "markdown",
      "source": [
        "Обе функции принимают список вершин и угол поворота в качестве входных данных и возвращают список вершин повернутого многоугольника. Основное различие заключается в подходе, используемом для выполнения вращения: один использует матрицы вращения, а другой использует комплексные числа. Оба подхода действительны и эффективны для поворота многоугольника вокруг центра координат."
      ],
      "metadata": {
        "id": "PuUTqB-AloXv"
      }
    },
    {
      "cell_type": "markdown",
      "source": [
        "### 2.2.2. Задание №2\n",
        "Реализовать повороты произвольного массива точек на произвольный угол вокруг заданной точки. Используйте или матрицы, или комплексные числа. Что на ваш взгляд удобнее использовать в Matplotlib и почему? Дополнительно отобразите центр поворота, дугу окружности и радиус. Радиус проведите от центра поворота к центру масс вращаемого массива точек. Визуально проверьте работу программы, взяв массив из трех точек и нарисовав треугольник. Отобразите треугольник до поворота и после.\n"
      ],
      "metadata": {
        "id": "D8C_1aMHnCO9"
      }
    },
    {
      "cell_type": "markdown",
      "source": [
        "Для выполнения вращений произвольного массива точек вокруг контрольной точки (центра вращения) можно использовать как матрицы, так и комплексные числа. В контексте Matplotlib использование матриц обычно более удобно, поскольку Matplotlib позволяет применять матричные преобразования непосредственно к точкам для создания вращения. Использование комплексных чисел может быть более эффективным для вращений вокруг точки (0, 0), но когда дело доходит до произвольного центра вращения, матрицы более универсальны и просты для понимания.\n",
        "\n",
        "Вот пример того, как вы можете сделать это с помощью массивов в Matplotlib. Прежде чем вращать матрицу, вы должны рассчитать центр масс точек, чтобы определить радиус и дугу окружности."
      ],
      "metadata": {
        "id": "oP9PPLJYldCF"
      }
    },
    {
      "cell_type": "code",
      "source": [
        "import numpy as np\n",
        "import matplotlib.pyplot as plt\n",
        "from matplotlib.patches import Arc"
      ],
      "metadata": {
        "id": "gic_vlA3nC-U"
      },
      "execution_count": 5,
      "outputs": []
    },
    {
      "cell_type": "code",
      "source": [
        "# Função para calcular o centro de massa dos pontos\n",
        "def calculate_center_of_mass(points):\n",
        "    return np.mean(points, axis=0)\n",
        "\n",
        "# Função para realizar rotação em torno de um ponto arbitrário\n",
        "def rotate_points_around_center(points, center, angle_degrees):\n",
        "    angle_radians = np.radians(angle_degrees)\n",
        "    rotation_matrix = np.array([[np.cos(angle_radians), -np.sin(angle_radians)],\n",
        "                                [np.sin(angle_radians), np.cos(angle_radians)]])\n",
        "    rotated_points = np.dot(points - center, rotation_matrix.T) + center\n",
        "    return rotated_points\n",
        "\n",
        "# Define a matriz de pontos do triângulo\n",
        "points = np.array([[1, 1], [2, 2], [1, 3]])\n",
        "\n",
        "# Calcula o centro de massa dos pontos\n",
        "center_of_mass = calculate_center_of_mass(points)\n",
        "\n",
        "# Define o ângulo de rotação\n",
        "angle = 45\n",
        "\n",
        "# Realiza a rotação dos pontos em torno do centro de massa\n",
        "rotated_points = rotate_points_around_center(points, center_of_mass, angle)\n",
        "\n",
        "# Cria a figura e os eixos do gráfico\n",
        "fig, ax = plt.subplots()\n",
        "\n",
        "# Desenha o triângulo original\n",
        "triangle_original = plt.Polygon(points, fill=None, edgecolor='b', linestyle='--')\n",
        "ax.add_patch(triangle_original)\n",
        "\n",
        "# Desenha o triângulo rotacionado\n",
        "triangle_rotated = plt.Polygon(rotated_points, fill=None, edgecolor='r')\n",
        "ax.add_patch(triangle_rotated)\n",
        "\n",
        "# Desenha o centro de rotação\n",
        "ax.plot(center_of_mass[0], center_of_mass[1], 'go')\n",
        "\n",
        "# Calcula o raio entre o centro de rotação e o centro de massa\n",
        "radius = np.linalg.norm(center_of_mass - points[0])\n",
        "\n",
        "# Desenha o arco circular\n",
        "arc = Arc(center_of_mass, 2 * radius, 2 * radius, 0, 0, angle, edgecolor='g')\n",
        "ax.add_patch(arc)\n",
        "\n",
        "# Configurações do gráfico\n",
        "ax.set_aspect('equal', adjustable='datalim')\n",
        "plt.xlabel('X')\n",
        "plt.ylabel('Y')\n",
        "\n",
        "# Exibe o gráfico\n",
        "plt.show()"
      ],
      "metadata": {
        "colab": {
          "base_uri": "https://localhost:8080/",
          "height": 505
        },
        "id": "BIABlMGpnbgX",
        "outputId": "4f5239b1-39ee-40b3-be04-4fa6e996ed43"
      },
      "execution_count": 6,
      "outputs": [
        {
          "output_type": "stream",
          "name": "stderr",
          "text": [
            "<ipython-input-6-327c5fc6f6bf>:43: MatplotlibDeprecationWarning: Passing the angle parameter of __init__() positionally is deprecated since Matplotlib 3.6; the parameter will become keyword-only two minor releases later.\n",
            "  arc = Arc(center_of_mass, 2 * radius, 2 * radius, 0, 0, angle, edgecolor='g')\n"
          ]
        },
        {
          "output_type": "display_data",
          "data": {
            "text/plain": [
              "<Figure size 640x480 with 1 Axes>"
            ],
            "image/png": "[encoded data removed]"
          },
          "metadata": {}
        }
      ]
    },
    {
      "cell_type": "markdown",
      "source": [
        "Функция rotate_points_around_center вычисляет вращение точек вокруг контрольной точки (в данном случае центра масс) с использованием матрицы вращения. Центр вращения отмечен зеленым кружком, а круговая дуга нарисована, чтобы указать угол поворота. Исходный треугольник нарисован синей пунктирной линией, а повернутый треугольник нарисован Красной непрерывной линией.\n",
        "\n",
        "Когда вы запустите код, вы увидите, что исходный треугольник, повернутый треугольник, центр вращения, дуга окружности и радиус скользят от центра вращения к центру масс повернутого треугольника. Вы можете настроить точки треугольника и угол поворота по мере необходимости, чтобы увидеть различные настройки."
      ],
      "metadata": {
        "id": "CcMrUZVDnc-j"
      }
    },
    {
      "cell_type": "markdown",
      "source": [
        "### 2.2.3. Задание №3\n",
        "Реализуйте отражение произвольного многоугольника относительно прямой,проходящей через центр координат под заданным углом. Покажите, что два отражения подряд относительно двух прямых эквивалентно одному повороту. Каков угол такого поворота? Используйте на выбор или комплексные числа, или матрицы с векторами."
      ],
      "metadata": {
        "id": "7HuXQcd5pAbP"
      }
    },
    {
      "cell_type": "markdown",
      "source": [
        "Чтобы выполнить отражение произвольного многоугольника относительно линии, проходящей через центр координат под определенным углом, можно использовать матрицы вращения и линейные преобразования. Идея состоит в том, чтобы дважды отразить многоугольник относительно двух линий, наклоненных в противоположных направлениях, чтобы получить вращение.\n",
        "\n",
        "Во-первых, чтобы выполнить отражение относительно наклонной линии с углом $\\theta$ , вы можете использовать матрицу обратного вращения. Матрица вращения для угла $\\theta$ задается формулой:"
      ],
      "metadata": {
        "id": "Q5vjLeQ_ppr5"
      }
    },
    {
      "cell_type": "markdown",
      "source": [
        "$\n",
        "R = \\begin{bmatrix}\n",
        "\\cos(\\theta) & -\\sin(\\theta) \\\\\n",
        "\\sin(\\theta) & \\cos(\\theta)\n",
        "\\end{bmatrix}\n",
        "$"
      ],
      "metadata": {
        "id": "WO_HFVI4sVdE"
      }
    },
    {
      "cell_type": "markdown",
      "source": [
        "Для отражения относительно этой линии вам нужно выполнить обратное вращение, что означает замену\n",
        "$\\theta, -\\theta$ в матрице вращения. Таким образом, матрица отражения относительно наклонной линии с углом $\\theta$ задается формулой:"
      ],
      "metadata": {
        "id": "eXJ74hy7wAhw"
      }
    },
    {
      "cell_type": "markdown",
      "source": [
        "$\n",
        "R = \\begin{bmatrix}\n",
        "\\cos(\\theta) & -\\sin(-\\theta) \\\\\n",
        "\\sin(-\\theta) & \\cos(-\\theta)\n",
        "\\end{bmatrix}\n",
        "$\n",
        "$\n",
        "= \\begin{bmatrix}\n",
        "\\cos(\\theta) & \\sin(\\theta) \\\\\n",
        "-\\sin(\\theta) & \\cos(\\theta)\n",
        "\\end{bmatrix}\n",
        "$"
      ],
      "metadata": {
        "id": "HDM2rA7owWON"
      }
    },
    {
      "cell_type": "markdown",
      "source": [
        "Если вы выполняете два последовательных отражения относительно двух линий, наклоненных в противоположных направлениях (т. е. первое отражение относительно линии с углом θ и второе отражение относительно линии с углом − θ), результатом будет вращение 2θ вокруг координатного центра."
      ],
      "metadata": {
        "id": "sk20LzkVxQa6"
      }
    },
    {
      "cell_type": "markdown",
      "source": [],
      "metadata": {
        "id": "ceovT9RNxgS8"
      }
    },
    {
      "cell_type": "code",
      "source": [
        "# Função para realizar a reflexão em relação a uma linha com ângulo theta\n",
        "def reflection_matrix(theta):\n",
        "    cos_theta = np.cos(theta)\n",
        "    sin_theta = np.sin(theta)\n",
        "    return np.array([[cos_theta, sin_theta],\n",
        "                     [sin_theta, -cos_theta]])\n",
        "\n",
        "# Função para realizar duas reflexões sucessivas e obter a rotação\n",
        "def double_reflection_rotation_matrix(theta):\n",
        "    reflection_matrix_1 = reflection_matrix(theta)\n",
        "    reflection_matrix_2 = reflection_matrix(-theta)\n",
        "    rotation_matrix = np.dot(reflection_matrix_2, reflection_matrix_1)\n",
        "    return rotation_matrix\n",
        "\n",
        "# Exemplo de uso\n",
        "theta = np.radians(45)  # Ângulo de 45 graus para a linha de reflexão\n",
        "rotation_matrix = double_reflection_rotation_matrix(theta)\n",
        "print(\"Matriz de Rotação Resultante:\")\n",
        "print(rotation_matrix)"
      ],
      "metadata": {
        "colab": {
          "base_uri": "https://localhost:8080/"
        },
        "id": "e38lKAfho-ri",
        "outputId": "76a1331d-323c-4e6f-8b8a-07c4f61716a7"
      },
      "execution_count": 7,
      "outputs": [
        {
          "output_type": "stream",
          "name": "stdout",
          "text": [
            "Matriz de Rotação Resultante:\n",
            "[[ 1.99673462e-16  1.00000000e+00]\n",
            " [-1.00000000e+00  1.79380389e-16]]\n"
          ]
        }
      ]
    },
    {
      "cell_type": "markdown",
      "source": [
        "### 2.2.4. Задание №4\n",
        "Первые два задания анимировать (создать видео) или использовать ползунок для изменения угла с шагом в 1 градус (можно и меньше)."
      ],
      "metadata": {
        "id": "ow4bzBQcqEYr"
      }
    },
    {
      "cell_type": "code",
      "source": [
        "from matplotlib.patches import Polygon\n",
        "from matplotlib.animation import FuncAnimation"
      ],
      "metadata": {
        "id": "fvuglE9yqwLI"
      },
      "execution_count": 8,
      "outputs": []
    },
    {
      "cell_type": "code",
      "source": [
        "\n",
        "\n",
        "# Полигон для задачи поворота\n",
        "polygon_vertices = np.array([[1, 1], [2, 2], [1, 3]])\n",
        "\n",
        "# Угол для поворота (в градусах)\n",
        "rotation_angle = 0\n",
        "\n",
        "# Создание окна графика\n",
        "fig, ax = plt.subplots()\n",
        "\n",
        "# Функция для инициализации графика\n",
        "def init():\n",
        "    ax.set_xlim(-2, 4)\n",
        "    ax.set_ylim(-2, 4)\n",
        "    return []\n",
        "\n",
        "# Функция для анимации поворота полигона\n",
        "def animate_rotation(frame):\n",
        "    global rotation_angle\n",
        "    ax.cla()\n",
        "    rotated_vertices = rotate_points_around_center(polygon_vertices, np.array([0, 0]), rotation_angle)\n",
        "    ax.add_patch(Polygon(rotated_vertices, fill=None, edgecolor='b'))\n",
        "    ax.set_xlim(-2, 4)\n",
        "    ax.set_ylim(-2, 4)\n",
        "    rotation_angle += 1  # Шаг поворота в градусах\n",
        "    return []\n",
        "\n",
        "# Функция для выполнения поворота полигона вокруг центра\n",
        "def rotate_points_around_center(points, center, angle_degrees):\n",
        "    angle_radians = np.radians(angle_degrees)\n",
        "    rotation_matrix = np.array([[np.cos(angle_radians), -np.sin(angle_radians)],\n",
        "                                [np.sin(angle_radians), np.cos(angle_radians)]])\n",
        "    rotated_points = np.dot(points - center, rotation_matrix.T) + center\n",
        "    return rotated_points\n",
        "\n",
        "# Создание анимации\n",
        "ani = FuncAnimation(fig, animate_rotation, frames=360, init_func=init, blit=True)\n",
        "\n",
        "# Сохранение анимации в видео файл\n",
        "ani.save('rotation_animation.mp4', writer='ffmpeg', fps=30)\n",
        "\n",
        "# Отображение графика (показывает последний кадр анимации)\n",
        "plt.show()"
      ],
      "metadata": {
        "colab": {
          "base_uri": "https://localhost:8080/",
          "height": 435
        },
        "id": "LKu6QrYgqMdQ",
        "outputId": "b28d94d4-edef-491b-ffc3-39ac69a0536e"
      },
      "execution_count": 9,
      "outputs": [
        {
          "output_type": "display_data",
          "data": {
            "text/plain": [
              "<Figure size 640x480 with 1 Axes>"
            ],
            "image/png": "[encoded data removed]"
          },
          "metadata": {}
        }
      ]
    },
    {
      "cell_type": "markdown",
      "source": [
        "### 2.2.5. Задание №5\n",
        "Запрограммировать плоскую кинематическую пару. Исходные данные: длины двух звеньев и углы поворота звеньев относительно друг друга."
      ],
      "metadata": {
        "id": "uTlk9h6brOKG"
      }
    },
    {
      "cell_type": "code",
      "source": [
        "# Função para calcular as coordenadas (x, y) do ponto final do primeiro elo\n",
        "def calculate_link1_end(L1, theta1):\n",
        "    x1 = L1 * math.cos(math.radians(theta1))\n",
        "    y1 = L1 * math.sin(math.radians(theta1))\n",
        "    return x1, y1\n",
        "\n",
        "# Função para calcular as coordenadas (x, y) do ponto final do segundo elo\n",
        "def calculate_link2_end(L1, L2, theta1, theta2):\n",
        "    x1, y1 = calculate_link1_end(L1, theta1)\n",
        "    x2 = x1 + L2 * math.cos(math.radians(theta1 + theta2))\n",
        "    y2 = y1 + L2 * math.sin(math.radians(theta1 + theta2))\n",
        "    return x2, y2\n",
        "\n",
        "# Exemplo de uso\n",
        "L1 = 3  # Comprimento do primeiro elo\n",
        "L2 = 2  # Comprimento do segundo elo\n",
        "theta1 = 30  # Ângulo de rotação do primeiro elo em graus\n",
        "theta2 = 45  # Ângulo de rotação do segundo elo em graus\n",
        "\n",
        "# Calcula as coordenadas do ponto final do primeiro elo\n",
        "x1, y1 = calculate_link1_end(L1, theta1)\n",
        "print(f\"Coordenadas do ponto final do primeiro elo: ({x1}, {y1})\")\n",
        "\n",
        "# Calcula as coordenadas do ponto final do segundo elo\n",
        "x2, y2 = calculate_link2_end(L1, L2, theta1, theta2)\n",
        "print(f\"Coordenadas do ponto final do segundo elo: ({x2}, {y2})\")"
      ],
      "metadata": {
        "colab": {
          "base_uri": "https://localhost:8080/"
        },
        "id": "sJndWbCcsGTR",
        "outputId": "360ed89d-641c-4232-a216-ffdbf8c5a4b9"
      },
      "execution_count": 10,
      "outputs": [
        {
          "output_type": "stream",
          "name": "stdout",
          "text": [
            "Coordenadas do ponto final do primeiro elo: (2.598076211353316, 1.4999999999999998)\n",
            "Coordenadas do ponto final do segundo elo: (3.1157143015583575, 3.4318516525781364)\n"
          ]
        }
      ]
    },
    {
      "cell_type": "markdown",
      "source": [
        "### 2.2.6. Задание №6\n",
        "\n",
        "Используя кинематическую пару анимировать произвольную циклоидальную кривую. Программа должна уметь рисовать любую такую кривую. В качестве примера можно использовать кривые из таблицы 1.\n"
      ],
      "metadata": {
        "id": "93R02131s7iM"
      }
    },
    {
      "cell_type": "code",
      "source": [
        "# Constantes para a curva cicloidal\n",
        "A = 1\n",
        "B = 1\n",
        "\n",
        "# Função para calcular as coordenadas da curva cicloidal para um dado parâmetro t\n",
        "def cycloidal_curve(t):\n",
        "    x = A * t - B * np.sin(t)\n",
        "    y = B - B * np.cos(t)\n",
        "    return x, y\n",
        "\n",
        "# Função de inicialização da animação\n",
        "def init():\n",
        "    line.set_data([], [])\n",
        "    return line,\n",
        "\n",
        "# Função de atualização da animação\n",
        "def animate(frame):\n",
        "    t = np.linspace(0, frame / 10, frame)\n",
        "    x, y = cycloidal_curve(t)\n",
        "    line.set_data(x, y)\n",
        "    return line,\n",
        "\n",
        "# Criando a figura e o eixo do gráfico\n",
        "fig, ax = plt.subplots()\n",
        "ax.set_xlim(-2, 15)\n",
        "ax.set_ylim(-1, 3)\n",
        "line, = ax.plot([], [], lw=2)\n",
        "\n",
        "# Criando a animação\n",
        "ani2 = FuncAnimation(fig, animate, frames=100, init_func=init, blit=True)\n",
        "ani2.save('ciclodial.mp4', writer='ffmpeg', fps=30)\n",
        "# Exibindo a animação\n",
        "plt.show()"
      ],
      "metadata": {
        "colab": {
          "base_uri": "https://localhost:8080/",
          "height": 435
        },
        "id": "DRKSl7-nu422",
        "outputId": "a0808684-cd8b-4caf-80ac-66aadaace75d"
      },
      "execution_count": 13,
      "outputs": [
        {
          "output_type": "display_data",
          "data": {
            "text/plain": [
              "<Figure size 640x480 with 1 Axes>"
            ],
            "image/png": "[encoded data removed]"
          },
          "metadata": {}
        }
      ]
    },
    {
      "cell_type": "code",
      "source": [
        "from numpy import pi\n",
        "from matplotlib.lines import Line2D\n",
        "import matplotlib.animation as animation\n",
        "from fractions import Fraction\n",
        "\n",
        "theta = np.linspace(0, 2 * pi, 500);\n",
        "r = np.ones(500)\n",
        "x = r * np.cos(theta)\n",
        "y = r * np.sin(theta)\n",
        "\n",
        "dtheta = pi / 25;\n",
        "\n",
        "# Distance of point on radius from center.\n",
        "# P < 1 then trochoid, P >= 1 cycloid\n",
        "P = 1\n",
        "\n",
        "fig = plt.figure()\n",
        "ax = plt.axes()\n",
        "\n",
        "fig.set_figheight(7)\n",
        "fig.set_figwidth(14)\n",
        "\n",
        "xdata, ydata = [], []\n",
        "trace = Line2D([], [], color='blue', linewidth = 3)\n",
        "ax.add_line(trace)\n",
        "\n",
        "rad = Line2D([0, 0], [0, -P], color='red', linewidth = 3)\n",
        "ax.add_line(rad)\n",
        "\n",
        "line = Line2D(x, y, color='green', linewidth = 3)\n",
        "ax.add_line(line)\n",
        "\n",
        "ax.axis('equal')\n",
        "ax.set_aspect('equal', 'box')\n",
        "ax.set(xlim=(-1.5, 14), ylim=(-1, 4))\n",
        "ax.grid(color='blue', linewidth = 0.5, linestyle = 'dotted')\n",
        "ax.axhline(y=0, color='k')\n",
        "ax.axvline(x=0, color='k')\n",
        "ax.set_title('Cycloid animation')\n",
        "\n",
        "def format_func(value, tick_number):\n",
        "    n = Fraction(value / pi).numerator\n",
        "    d = Fraction(value / pi).denominator\n",
        "    if n == 0:\n",
        "        return \"0\"\n",
        "    elif n == 1 and d == 1:\n",
        "        return r\"$\\pi$\"\n",
        "    elif n == 1 and d != 1:\n",
        "        return r\"$\\pi/{0}$\".format(d)\n",
        "    elif n != 1 and d == 1:\n",
        "        return r\"${0}\\pi$\".format(n)\n",
        "    else:\n",
        "        return r\"${0}\\pi/{1}$\".format(n, d)\n",
        "\n",
        "def trans2d(x,y,tx,ty,phi):\n",
        "    xx = x*np.cos(phi) - y*np.sin(phi) + tx\n",
        "    yy = x*np.sin(phi) + y*np.cos(phi) + ty\n",
        "    return(xx,yy)\n",
        "\n",
        "def init():\n",
        "    trace.set_data([], [])\n",
        "    rad.set_data([0, 0], [0, -P])\n",
        "    line.set_data([], [])\n",
        "    return line, rad, trace\n",
        "\n",
        "def get_pos(theta = 0):\n",
        "    while theta < 4*pi:\n",
        "        ax = np.array([0, 0])\n",
        "        by = np.array([0, -P])\n",
        "        dx,dy = trans2d(ax, by, theta, 1, -theta)\n",
        "        yield theta, dx, dy\n",
        "        theta += dtheta\n",
        "\n",
        "def animate(pos):\n",
        "    theta, dx, dy = pos\n",
        "    line.set_data(x + theta, y + 1)\n",
        "    rad.set_data(dx, dy)\n",
        "    xdata.append(dx[1])\n",
        "    ydata.append(dy[1])\n",
        "    trace.set_data(xdata, ydata)\n",
        "    return line, rad, trace\n",
        "\n",
        "ax.xaxis.set_major_locator(plt.MultipleLocator(pi / 2))\n",
        "ax.xaxis.set_major_formatter(plt.FuncFormatter(format_func))\n",
        "\n",
        "# create animation using the animate() function\n",
        "myAnimation = animation.FuncAnimation(fig, animate, get_pos,\n",
        "                                      interval=20, blit=True, repeat=False, init_func=init)\n",
        "myAnimation.save('ciclo.mp4', writer='ffmpeg', fps=30)\n",
        "plt.show()"
      ],
      "metadata": {
        "colab": {
          "base_uri": "https://localhost:8080/",
          "height": 448
        },
        "id": "xNwvIjvxz_2_",
        "outputId": "c70d71df-5278-4ae2-d4f9-55f4ecad8f65"
      },
      "execution_count": 22,
      "outputs": [
        {
          "output_type": "stream",
          "name": "stderr",
          "text": [
            "<ipython-input-22-e9b30855764d>:87: UserWarning: frames=<function get_pos at 0x79fb9d103640> which we can infer the length of, did not pass an explicit *save_count* and passed cache_frame_data=True.  To avoid a possibly unbounded cache, frame data caching has been disabled. To suppress this warning either pass `cache_frame_data=False` or `save_count=MAX_FRAMES`.\n",
            "  myAnimation = animation.FuncAnimation(fig, animate, get_pos,\n"
          ]
        },
        {
          "output_type": "display_data",
          "data": {
            "text/plain": [
              "<Figure size 1400x700 with 1 Axes>"
            ],
            "image/png": "[encoded data removed]"
          },
          "metadata": {}
        }
      ]
    }
  ]
}